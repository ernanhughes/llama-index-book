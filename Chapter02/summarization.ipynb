{
 "cells": [
  {
   "cell_type": "code",
   "execution_count": 1,
   "metadata": {},
   "outputs": [
    {
     "name": "stdout",
     "output_type": "stream",
     "text": [
      "Both documents discuss ancient Rome, highlighting the city's significance as the heart of the vast Roman Empire known for its grand architecture and skilled engineers. They mention iconic structures like the Colosseum and the Pantheon, as well as the extensive network of roads, aqueducts, and bridges built by the Romans. The Roman Republic, with its Senate and elected officials, led to the rise of the Roman legions that conquered vast lands, leaving a lasting influence on art, law, and governance in modern societies.\n"
     ]
    }
   ],
   "source": [
    "from llama_index.core import VectorStoreIndex, SimpleDirectoryReader\n",
    "\n",
    "documents = SimpleDirectoryReader('../data/wikipedia').load_data()\n",
    "index = VectorStoreIndex.from_documents(documents)\n",
    "query_engine = index.as_query_engine()\n",
    "response = query_engine.query(\"summarize each document in a few sentences\")\n",
    "\n",
    "print(response)\n",
    "\n"
   ]
  },
  {
   "cell_type": "code",
   "execution_count": 2,
   "metadata": {},
   "outputs": [
    {
     "name": "stdout",
     "output_type": "stream",
     "text": [
      "The documents describe ancient Rome as the heart of the vast Roman Empire, renowned for its grand architecture and skilled engineers. The Roman Republic, with its Senate and famous legions, expanded its territories through conquest. The influence of Roman civilization on art, law, and governance is still evident in modern societies.\n"
     ]
    }
   ],
   "source": [
    "response = query_engine.query(\"for each document write a paragraph summarizing it in a few sentences\")\n",
    "print(response)"
   ]
  },
  {
   "cell_type": "markdown",
   "metadata": {},
   "source": []
  },
  {
   "cell_type": "markdown",
   "metadata": {},
   "source": []
  },
  {
   "cell_type": "markdown",
   "metadata": {},
   "source": []
  },
  {
   "cell_type": "code",
   "execution_count": null,
   "metadata": {},
   "outputs": [],
   "source": []
  }
 ],
 "metadata": {
  "kernelspec": {
   "display_name": ".venv",
   "language": "python",
   "name": "python3"
  },
  "language_info": {
   "codemirror_mode": {
    "name": "ipython",
    "version": 3
   },
   "file_extension": ".py",
   "mimetype": "text/x-python",
   "name": "python",
   "nbconvert_exporter": "python",
   "pygments_lexer": "ipython3",
   "version": "3.11.9"
  }
 },
 "nbformat": 4,
 "nbformat_minor": 2
}
