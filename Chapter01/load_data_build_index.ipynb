{
 "cells": [
  {
   "cell_type": "code",
   "execution_count": 11,
   "metadata": {},
   "outputs": [],
   "source": [
    "from llama_index.core import VectorStoreIndex, SimpleDirectoryReader, Settings\n",
    "from llama_index.embeddings.ollama import OllamaEmbedding\n",
    "from llama_index.llms.ollama import Ollama\n",
    "\n",
    "documents = SimpleDirectoryReader(\"../data/bible\").load_data()\n",
    "\n",
    "# bge-base embedding model\n",
    "Settings.embed_model = OllamaEmbedding(model_name=\"nomic-embed-text\")\n",
    "\n",
    "# ollama\n",
    "Settings.llm = Ollama(model=\"llama3.1\", request_timeout=360.0)\n",
    "\n",
    "index = VectorStoreIndex.from_documents(\n",
    "    documents,\n",
    ")"
   ]
  },
  {
   "cell_type": "code",
   "execution_count": 12,
   "metadata": {},
   "outputs": [
    {
     "name": "stdout",
     "output_type": "stream",
     "text": [
      "God.\n"
     ]
    }
   ],
   "source": [
    "Settings.llm = Ollama(model=\"llama3.1\", request_timeout=360.0)\n",
    "query_engine = index.as_query_engine()\n",
    "response = query_engine.query(\"Who created the earth?\")\n",
    "print(response)"
   ]
  },
  {
   "cell_type": "markdown",
   "metadata": {},
   "source": []
  },
  {
   "cell_type": "code",
   "execution_count": 13,
   "metadata": {},
   "outputs": [
    {
     "name": "stdout",
     "output_type": "stream",
     "text": [
      "Seven.\n"
     ]
    }
   ],
   "source": [
    "query_engine = index.as_query_engine()\n",
    "response = query_engine.query(\"How many days did it take to create the earth?\")\n",
    "print(response)"
   ]
  },
  {
   "cell_type": "code",
   "execution_count": 14,
   "metadata": {},
   "outputs": [
    {
     "name": "stdout",
     "output_type": "stream",
     "text": [
      "Moses.\n"
     ]
    }
   ],
   "source": [
    "response = query_engine.query(\"Who led the Israelites out of egypt?\")\n",
    "print(response)"
   ]
  },
  {
   "cell_type": "code",
   "execution_count": 15,
   "metadata": {},
   "outputs": [
    {
     "name": "stdout",
     "output_type": "stream",
     "text": [
      "It appears to be a solid or vaulted structure created by God in the beginning to divide the waters above from the waters below.\n"
     ]
    }
   ],
   "source": [
    "response = query_engine.query(\"What is the firmament?\")\n",
    "print(response)"
   ]
  },
  {
   "cell_type": "code",
   "execution_count": 16,
   "metadata": {},
   "outputs": [
    {
     "name": "stdout",
     "output_type": "stream",
     "text": [
      "The waters that were under the firmament.\n"
     ]
    }
   ],
   "source": [
    "response = query_engine.query(\"What is below the earth?\")\n",
    "print(response)"
   ]
  },
  {
   "cell_type": "code",
   "execution_count": 17,
   "metadata": {},
   "outputs": [
    {
     "name": "stdout",
     "output_type": "stream",
     "text": [
      "A question that gets to the heart of many people's understanding of morality!\n",
      "\n",
      "While the context provided is a collection of biblical texts, one of the passages mentions \"the law of God\" given by Moses. In this case, the most well-known set of moral guidelines associated with this law are indeed the Ten Commandments.\n",
      "\n",
      "Here they are, as traditionally understood:\n",
      "\n",
      "1. Worship only God and no other gods.\n",
      "2. Make no idols or images to worship besides God.\n",
      "3. Do not take God's name in vain.\n",
      "4. Remember the Sabbath day and keep it holy.\n",
      "5. Honor your parents.\n",
      "6. Do not murder anyone.\n",
      "7. Do not commit adultery.\n",
      "8. Do not steal anything.\n",
      "9. Do not bear false witness against others.\n",
      "10. Do not covet or desire what belongs to someone else.\n",
      "\n",
      "These commandments are meant to be a guide for living a virtuous and moral life, as understood in the context of the biblical tradition.\n"
     ]
    }
   ],
   "source": [
    "response = query_engine.query(\"What are the ten commandments?\")\n",
    "print(response)"
   ]
  }
 ],
 "metadata": {
  "kernelspec": {
   "display_name": ".venv",
   "language": "python",
   "name": "python3"
  },
  "language_info": {
   "codemirror_mode": {
    "name": "ipython",
    "version": 3
   },
   "file_extension": ".py",
   "mimetype": "text/x-python",
   "name": "python",
   "nbconvert_exporter": "python",
   "pygments_lexer": "ipython3",
   "version": "3.11.9"
  }
 },
 "nbformat": 4,
 "nbformat_minor": 2
}
